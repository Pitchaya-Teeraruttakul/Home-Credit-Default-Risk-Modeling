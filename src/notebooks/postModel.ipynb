{
 "cells": [
  {
   "cell_type": "code",
   "execution_count": 16,
   "id": "b5f183eb",
   "metadata": {},
   "outputs": [],
   "source": [
    "import os, pandas as pd, numpy as np, matplotlib.pyplot as plt, seaborn as sns, joblib\n",
    "from IPython.display import display"
   ]
  },
  {
   "cell_type": "code",
   "execution_count": 17,
   "id": "fbf173b7",
   "metadata": {},
   "outputs": [],
   "source": [
    "model = joblib.load('../artifacts/bestModel.pkl')\n",
    "df = joblib.load('../artifacts/data.pkl')\n",
    "coef = joblib.load('../artifacts/coef.pkl')\n",
    "intercept = joblib.load('../artifacts/intercept.pkl')"
   ]
  },
  {
   "cell_type": "code",
   "execution_count": 8,
   "id": "0fa6848c",
   "metadata": {},
   "outputs": [
    {
     "data": {
      "text/plain": [
       "['SK_ID_CURR',\n",
       " 'TARGET',\n",
       " 'NAME_CONTRACT_TYPE',\n",
       " 'CODE_GENDER',\n",
       " 'FLAG_OWN_CAR',\n",
       " 'FLAG_OWN_REALTY',\n",
       " 'CNT_CHILDREN',\n",
       " 'AMT_INCOME_TOTAL',\n",
       " 'AMT_CREDIT',\n",
       " 'AMT_ANNUITY',\n",
       " 'AMT_GOODS_PRICE',\n",
       " 'NAME_TYPE_SUITE',\n",
       " 'NAME_INCOME_TYPE',\n",
       " 'NAME_EDUCATION_TYPE',\n",
       " 'NAME_FAMILY_STATUS',\n",
       " 'NAME_HOUSING_TYPE',\n",
       " 'REGION_POPULATION_RELATIVE',\n",
       " 'DAYS_BIRTH',\n",
       " 'DAYS_EMPLOYED',\n",
       " 'DAYS_REGISTRATION',\n",
       " 'DAYS_ID_PUBLISH',\n",
       " 'FLAG_EMP_PHONE',\n",
       " 'FLAG_WORK_PHONE',\n",
       " 'FLAG_PHONE',\n",
       " 'FLAG_EMAIL',\n",
       " 'OCCUPATION_TYPE',\n",
       " 'CNT_FAM_MEMBERS',\n",
       " 'REGION_RATING_CLIENT',\n",
       " 'WEEKDAY_APPR_PROCESS_START',\n",
       " 'HOUR_APPR_PROCESS_START',\n",
       " 'REG_REGION_NOT_LIVE_REGION',\n",
       " 'REG_REGION_NOT_WORK_REGION',\n",
       " 'LIVE_REGION_NOT_WORK_REGION',\n",
       " 'REG_CITY_NOT_LIVE_CITY',\n",
       " 'REG_CITY_NOT_WORK_CITY',\n",
       " 'LIVE_CITY_NOT_WORK_CITY',\n",
       " 'ORGANIZATION_TYPE',\n",
       " 'EXT_SOURCE_2',\n",
       " 'EXT_SOURCE_3',\n",
       " 'OBS_30_CNT_SOCIAL_CIRCLE',\n",
       " 'DEF_30_CNT_SOCIAL_CIRCLE',\n",
       " 'OBS_60_CNT_SOCIAL_CIRCLE',\n",
       " 'DEF_60_CNT_SOCIAL_CIRCLE',\n",
       " 'DAYS_LAST_PHONE_CHANGE',\n",
       " 'FLAG_DOCUMENT_3',\n",
       " 'FLAG_DOCUMENT_5',\n",
       " 'FLAG_DOCUMENT_6',\n",
       " 'FLAG_DOCUMENT_8',\n",
       " 'AMT_REQ_CREDIT_BUREAU_HOUR',\n",
       " 'AMT_REQ_CREDIT_BUREAU_DAY',\n",
       " 'AMT_REQ_CREDIT_BUREAU_WEEK',\n",
       " 'AMT_REQ_CREDIT_BUREAU_MON',\n",
       " 'AMT_REQ_CREDIT_BUREAU_QRT',\n",
       " 'AMT_REQ_CREDIT_BUREAU_YEAR',\n",
       " 'IS_INCOME_CAPPED',\n",
       " 'IS_CHILDREN_CAPPED',\n",
       " 'HAS_PHONE',\n",
       " 'HAS_CONTACT_INFO',\n",
       " 'BUREAU_SK_ID_BUREAU_COUNT',\n",
       " 'BUREAU_DAYS_CREDIT_MIN',\n",
       " 'BUREAU_DAYS_CREDIT_MAX',\n",
       " 'BUREAU_DAYS_CREDIT_MEAN',\n",
       " 'BUREAU_DAYS_CREDIT_ENDDATE_MEAN',\n",
       " 'BUREAU_AMT_CREDIT_SUM_SUM',\n",
       " 'BUREAU_AMT_CREDIT_SUM_MEAN',\n",
       " 'BUREAU_AMT_CREDIT_SUM_DEBT_SUM',\n",
       " 'BUREAU_AMT_CREDIT_SUM_DEBT_MEAN',\n",
       " 'BUREAU_AMT_CREDIT_SUM_OVERDUE_SUM',\n",
       " 'BUREAU_AMT_CREDIT_SUM_OVERDUE_MEAN',\n",
       " 'BUREAU_DEBT_CREDIT_RATIO_MEAN',\n",
       " 'BUREAU_IS_ACTIVE_SUM',\n",
       " 'BUREAU_IS_CLOSED_SUM',\n",
       " 'BUREAU_IS_SOLD_SUM',\n",
       " 'BUREAU_IS_BAD_DEBT_SUM',\n",
       " 'BUREAU_IS_REVOLVING_SUM',\n",
       " 'BUREAU_IS_CONSUMER_SUM',\n",
       " 'BUREAU_IS_MORTGAGE_SUM',\n",
       " 'BUREAU_BB_MONTHS_BALANCE_COUNT_SUM',\n",
       " 'BUREAU_BB_IS_LATE_SUM_SUM',\n",
       " 'BUREAU_BB_IS_DPD_30_SUM_SUM',\n",
       " 'BUREAU_BB_IS_DPD_60_SUM_SUM',\n",
       " 'BUREAU_BB_IS_DPD_120_SUM_SUM',\n",
       " 'BUREAU_BB_IS_CLOSED_SUM_SUM',\n",
       " 'BUREAU_BB_IS_NODATA_SUM_SUM',\n",
       " 'INSTM_PAYMENT_DELAY_MEAN',\n",
       " 'INSTM_PAYMENT_DELAY_MAX',\n",
       " 'INSTM_PAYMENT_DELAY_MIN',\n",
       " 'INSTM_PAYMENT_DIFF_MEAN',\n",
       " 'INSTM_PAYMENT_DIFF_MIN',\n",
       " 'INSTM_PAYMENT_DIFF_MAX',\n",
       " 'INSTM_PAYMENT_RATIO_MEAN',\n",
       " 'INSTM_PAYMENT_RATIO_STD',\n",
       " 'INSTM_IS_LATE_SUM',\n",
       " 'INSTM_IS_EARLY_SUM',\n",
       " 'INSTM_IS_OVERPAY_SUM',\n",
       " 'INSTM_IS_UNDERPAY_SUM',\n",
       " 'INSTM_IS_MISSED_SUM',\n",
       " 'INSTM_NUM_INSTALMENT_NUMBER_COUNT']"
      ]
     },
     "execution_count": 8,
     "metadata": {},
     "output_type": "execute_result"
    }
   ],
   "source": [
    "f = pd.read_csv(\"../../data/modelTable.csv\")\n",
    "name = f.columns.tolist()\n",
    "name"
   ]
  },
  {
   "cell_type": "code",
   "execution_count": 14,
   "id": "022dcfbd",
   "metadata": {},
   "outputs": [
    {
     "data": {
      "text/plain": [
       "['NAME_CONTRACT_TYPE',\n",
       " 'CODE_GENDER',\n",
       " 'NAME_TYPE_SUITE',\n",
       " 'NAME_INCOME_TYPE',\n",
       " 'NAME_EDUCATION_TYPE',\n",
       " 'NAME_FAMILY_STATUS',\n",
       " 'NAME_HOUSING_TYPE',\n",
       " 'OCCUPATION_TYPE',\n",
       " 'WEEKDAY_APPR_PROCESS_START',\n",
       " 'ORGANIZATION_TYPE',\n",
       " 'EXT_SOURCE_2_woe',\n",
       " 'EXT_SOURCE_3_woe',\n",
       " 'DAYS_BIRTH_woe',\n",
       " 'DAYS_EMPLOYED_woe',\n",
       " 'AMT_CREDIT_woe',\n",
       " 'AMT_INCOME_TOTAL_woe',\n",
       " 'BUREAU_DAYS_CREDIT_MIN_woe',\n",
       " 'BUREAU_DAYS_CREDIT_MAX_woe',\n",
       " 'BUREAU_DAYS_CREDIT_MEAN_woe',\n",
       " 'BUREAU_DAYS_CREDIT_ENDDATE_MEAN_woe',\n",
       " 'BUREAU_AMT_CREDIT_SUM_SUM_woe',\n",
       " 'BUREAU_AMT_CREDIT_SUM_MEAN_woe',\n",
       " 'BUREAU_AMT_CREDIT_SUM_DEBT_SUM_woe',\n",
       " 'BUREAU_AMT_CREDIT_SUM_DEBT_MEAN_woe',\n",
       " 'BUREAU_AMT_CREDIT_SUM_OVERDUE_SUM_woe',\n",
       " 'BUREAU_AMT_CREDIT_SUM_OVERDUE_MEAN_woe',\n",
       " 'BUREAU_DEBT_CREDIT_RATIO_MEAN_woe',\n",
       " 'BUREAU_IS_ACTIVE_SUM_woe',\n",
       " 'BUREAU_IS_CLOSED_SUM_woe',\n",
       " 'BUREAU_IS_SOLD_SUM_woe',\n",
       " 'BUREAU_IS_BAD_DEBT_SUM_woe',\n",
       " 'BUREAU_IS_REVOLVING_SUM_woe',\n",
       " 'BUREAU_IS_CONSUMER_SUM_woe',\n",
       " 'BUREAU_IS_MORTGAGE_SUM_woe',\n",
       " 'BUREAU_BB_MONTHS_BALANCE_COUNT_SUM_woe',\n",
       " 'BUREAU_BB_IS_LATE_SUM_SUM_woe',\n",
       " 'BUREAU_BB_IS_DPD_30_SUM_SUM_woe',\n",
       " 'BUREAU_BB_IS_DPD_120_SUM_SUM_woe',\n",
       " 'BUREAU_BB_IS_NODATA_SUM_SUM_woe',\n",
       " 'INSTM_PAYMENT_DELAY_MEAN_woe',\n",
       " 'INSTM_PAYMENT_DELAY_MAX_woe',\n",
       " 'INSTM_PAYMENT_DELAY_MIN_woe',\n",
       " 'INSTM_PAYMENT_DIFF_MEAN_woe',\n",
       " 'INSTM_PAYMENT_DIFF_MIN_woe',\n",
       " 'INSTM_PAYMENT_DIFF_MAX_woe',\n",
       " 'INSTM_PAYMENT_RATIO_STD_woe',\n",
       " 'INSTM_IS_LATE_SUM_woe',\n",
       " 'INSTM_IS_EARLY_SUM_woe',\n",
       " 'INSTM_IS_OVERPAY_SUM_woe',\n",
       " 'INSTM_IS_MISSED_SUM_woe',\n",
       " 'SK_ID_CURR',\n",
       " 'TARGET',\n",
       " 'PD']"
      ]
     },
     "execution_count": 14,
     "metadata": {},
     "output_type": "execute_result"
    }
   ],
   "source": [
    "df.columns.tolist()"
   ]
  },
  {
   "cell_type": "code",
   "execution_count": 19,
   "id": "3ce64917",
   "metadata": {},
   "outputs": [],
   "source": [
    "info = f[['SK_ID_CURR', \n",
    "'NAME_CONTRACT_TYPE', \n",
    "'NAME_INCOME_TYPE', \n",
    "'FLAG_OWN_REALTY', # secure | unsecure\n",
    "'NAME_EDUCATION_TYPE',\n",
    "'NAME_FAMILY_STATUS']]"
   ]
  },
  {
   "cell_type": "code",
   "execution_count": 20,
   "id": "c2b14399",
   "metadata": {},
   "outputs": [
    {
     "data": {
      "text/plain": [
       "(307511, 6)"
      ]
     },
     "execution_count": 20,
     "metadata": {},
     "output_type": "execute_result"
    }
   ],
   "source": [
    "info.shape"
   ]
  },
  {
   "cell_type": "code",
   "execution_count": 21,
   "id": "799f0559",
   "metadata": {},
   "outputs": [
    {
     "data": {
      "text/plain": [
       "(307511, 3)"
      ]
     },
     "execution_count": 21,
     "metadata": {},
     "output_type": "execute_result"
    }
   ],
   "source": [
    "base = df[[\"SK_ID_CURR\", \"TARGET\", \"PD\"]]\n",
    "base.shape"
   ]
  },
  {
   "cell_type": "markdown",
   "id": "9c4e380f",
   "metadata": {},
   "source": [
    "<span style=\"font-size:30px; font-family:'Times new roman'; font-weight:bold\">\n",
    "Segmentation 🪵\n",
    "</span>"
   ]
  },
  {
   "cell_type": "markdown",
   "id": "b783f79f",
   "metadata": {},
   "source": [
    "<span style=\"font-size:15px; font-family:'Times new roman'\">\n",
    "Group to rating grades so i can estimate stable default rates at the grade level --> not individual<br>\n",
    "therefore, first problem is --> how to defind the cut-off each level!!\n",
    "<span>"
   ]
  },
  {
   "cell_type": "markdown",
   "id": "80f949e7",
   "metadata": {},
   "source": [
    "<span style=\"font-size:15px; font-family:'Times new roman'\">\n",
    "IFRS9 Two-layers segmantation approch<br>\n",
    "- Portfolio level --> features that share similar credit risk characteristics<br>\n",
    "- Risk grade level --> group by level of calculated PD<br>\n",
    "<br>\n",
    "# of buckets\n",
    "5 might groups balance granularity against having enough defaults in each bucket to observe actual<br>default rates over calibration window --> not too small and too large\n",
    "<span>"
   ]
  },
  {
   "cell_type": "markdown",
   "id": "d369e248",
   "metadata": {},
   "source": [
    "<span style=\"font-size:15px; font-family:'Times new roman'\">\n",
    "Stage 1: PD bucket’s 12-month PD ≤ X % and no other SICR triggers<br>\n",
    "Stage 2: PD bucket’s 12-month PD > X % (e.g. >1 %) or other SICR indicators<br>\n",
    "Stage 3: default status<br>\n",
    "<span>"
   ]
  },
  {
   "cell_type": "code",
   "execution_count": 23,
   "id": "9678bc84",
   "metadata": {},
   "outputs": [
    {
     "data": {
      "text/html": [
       "<div>\n",
       "<style scoped>\n",
       "    .dataframe tbody tr th:only-of-type {\n",
       "        vertical-align: middle;\n",
       "    }\n",
       "\n",
       "    .dataframe tbody tr th {\n",
       "        vertical-align: top;\n",
       "    }\n",
       "\n",
       "    .dataframe thead th {\n",
       "        text-align: right;\n",
       "    }\n",
       "</style>\n",
       "<table border=\"1\" class=\"dataframe\">\n",
       "  <thead>\n",
       "    <tr style=\"text-align: right;\">\n",
       "      <th></th>\n",
       "      <th>SK_ID_CURR</th>\n",
       "      <th>TARGET</th>\n",
       "      <th>PD</th>\n",
       "      <th>NAME_CONTRACT_TYPE</th>\n",
       "      <th>NAME_INCOME_TYPE</th>\n",
       "      <th>FLAG_OWN_REALTY</th>\n",
       "      <th>NAME_EDUCATION_TYPE</th>\n",
       "      <th>NAME_FAMILY_STATUS</th>\n",
       "    </tr>\n",
       "  </thead>\n",
       "  <tbody>\n",
       "    <tr>\n",
       "      <th>0</th>\n",
       "      <td>100002</td>\n",
       "      <td>1</td>\n",
       "      <td>0.851064</td>\n",
       "      <td>Cash loans</td>\n",
       "      <td>Working</td>\n",
       "      <td>1</td>\n",
       "      <td>Secondary / secondary special</td>\n",
       "      <td>Single / not married</td>\n",
       "    </tr>\n",
       "    <tr>\n",
       "      <th>1</th>\n",
       "      <td>100003</td>\n",
       "      <td>0</td>\n",
       "      <td>0.157916</td>\n",
       "      <td>Cash loans</td>\n",
       "      <td>State servant</td>\n",
       "      <td>0</td>\n",
       "      <td>Higher education</td>\n",
       "      <td>Married</td>\n",
       "    </tr>\n",
       "    <tr>\n",
       "      <th>2</th>\n",
       "      <td>100004</td>\n",
       "      <td>0</td>\n",
       "      <td>0.223813</td>\n",
       "      <td>Revolving loans</td>\n",
       "      <td>Working</td>\n",
       "      <td>1</td>\n",
       "      <td>Secondary / secondary special</td>\n",
       "      <td>Single / not married</td>\n",
       "    </tr>\n",
       "    <tr>\n",
       "      <th>3</th>\n",
       "      <td>100006</td>\n",
       "      <td>0</td>\n",
       "      <td>0.418342</td>\n",
       "      <td>Cash loans</td>\n",
       "      <td>Working</td>\n",
       "      <td>1</td>\n",
       "      <td>Secondary / secondary special</td>\n",
       "      <td>Civil marriage</td>\n",
       "    </tr>\n",
       "    <tr>\n",
       "      <th>4</th>\n",
       "      <td>100007</td>\n",
       "      <td>0</td>\n",
       "      <td>0.540706</td>\n",
       "      <td>Cash loans</td>\n",
       "      <td>Working</td>\n",
       "      <td>1</td>\n",
       "      <td>Secondary / secondary special</td>\n",
       "      <td>Single / not married</td>\n",
       "    </tr>\n",
       "  </tbody>\n",
       "</table>\n",
       "</div>"
      ],
      "text/plain": [
       "   SK_ID_CURR  TARGET        PD NAME_CONTRACT_TYPE NAME_INCOME_TYPE  \\\n",
       "0      100002       1  0.851064         Cash loans          Working   \n",
       "1      100003       0  0.157916         Cash loans    State servant   \n",
       "2      100004       0  0.223813    Revolving loans          Working   \n",
       "3      100006       0  0.418342         Cash loans          Working   \n",
       "4      100007       0  0.540706         Cash loans          Working   \n",
       "\n",
       "   FLAG_OWN_REALTY            NAME_EDUCATION_TYPE    NAME_FAMILY_STATUS  \n",
       "0                1  Secondary / secondary special  Single / not married  \n",
       "1                0               Higher education               Married  \n",
       "2                1  Secondary / secondary special  Single / not married  \n",
       "3                1  Secondary / secondary special        Civil marriage  \n",
       "4                1  Secondary / secondary special  Single / not married  "
      ]
     },
     "execution_count": 23,
     "metadata": {},
     "output_type": "execute_result"
    }
   ],
   "source": [
    "seg = pd.merge(\n",
    "    base,\n",
    "    info,\n",
    "    on=\"SK_ID_CURR\",\n",
    "    how=\"left\"\n",
    ")\n",
    "seg.shape\n",
    "seg.head()"
   ]
  },
  {
   "cell_type": "code",
   "execution_count": 24,
   "id": "4cb41226",
   "metadata": {},
   "outputs": [],
   "source": [
    "seg[\"portfolio\"] = (\n",
    "      seg[\"NAME_CONTRACT_TYPE\"].astype(str) + \"_\"\n",
    "    + seg[\"NAME_INCOME_TYPE\"].astype(str) + \"_\"\n",
    "    + seg[\"FLAG_OWN_REALTY\"].map({1:\"Secured\",0:\"Unsecured\"}) + \"_\"\n",
    "    + seg[\"NAME_EDUCATION_TYPE\"].astype(str) + \"_\"\n",
    "    + seg[\"NAME_FAMILY_STATUS\"].astype(str)\n",
    ")"
   ]
  },
  {
   "cell_type": "code",
   "execution_count": 25,
   "id": "bf8b88a6",
   "metadata": {},
   "outputs": [
    {
     "data": {
      "text/html": [
       "<div>\n",
       "<style scoped>\n",
       "    .dataframe tbody tr th:only-of-type {\n",
       "        vertical-align: middle;\n",
       "    }\n",
       "\n",
       "    .dataframe tbody tr th {\n",
       "        vertical-align: top;\n",
       "    }\n",
       "\n",
       "    .dataframe thead th {\n",
       "        text-align: right;\n",
       "    }\n",
       "</style>\n",
       "<table border=\"1\" class=\"dataframe\">\n",
       "  <thead>\n",
       "    <tr style=\"text-align: right;\">\n",
       "      <th></th>\n",
       "      <th>SK_ID_CURR</th>\n",
       "      <th>TARGET</th>\n",
       "      <th>PD</th>\n",
       "      <th>NAME_CONTRACT_TYPE</th>\n",
       "      <th>NAME_INCOME_TYPE</th>\n",
       "      <th>FLAG_OWN_REALTY</th>\n",
       "      <th>NAME_EDUCATION_TYPE</th>\n",
       "      <th>NAME_FAMILY_STATUS</th>\n",
       "      <th>portfolio</th>\n",
       "    </tr>\n",
       "  </thead>\n",
       "  <tbody>\n",
       "    <tr>\n",
       "      <th>0</th>\n",
       "      <td>100002</td>\n",
       "      <td>1</td>\n",
       "      <td>0.851064</td>\n",
       "      <td>Cash loans</td>\n",
       "      <td>Working</td>\n",
       "      <td>1</td>\n",
       "      <td>Secondary / secondary special</td>\n",
       "      <td>Single / not married</td>\n",
       "      <td>Cash loans_Working_Secured_Secondary / seconda...</td>\n",
       "    </tr>\n",
       "    <tr>\n",
       "      <th>1</th>\n",
       "      <td>100003</td>\n",
       "      <td>0</td>\n",
       "      <td>0.157916</td>\n",
       "      <td>Cash loans</td>\n",
       "      <td>State servant</td>\n",
       "      <td>0</td>\n",
       "      <td>Higher education</td>\n",
       "      <td>Married</td>\n",
       "      <td>Cash loans_State servant_Unsecured_Higher educ...</td>\n",
       "    </tr>\n",
       "    <tr>\n",
       "      <th>2</th>\n",
       "      <td>100004</td>\n",
       "      <td>0</td>\n",
       "      <td>0.223813</td>\n",
       "      <td>Revolving loans</td>\n",
       "      <td>Working</td>\n",
       "      <td>1</td>\n",
       "      <td>Secondary / secondary special</td>\n",
       "      <td>Single / not married</td>\n",
       "      <td>Revolving loans_Working_Secured_Secondary / se...</td>\n",
       "    </tr>\n",
       "    <tr>\n",
       "      <th>3</th>\n",
       "      <td>100006</td>\n",
       "      <td>0</td>\n",
       "      <td>0.418342</td>\n",
       "      <td>Cash loans</td>\n",
       "      <td>Working</td>\n",
       "      <td>1</td>\n",
       "      <td>Secondary / secondary special</td>\n",
       "      <td>Civil marriage</td>\n",
       "      <td>Cash loans_Working_Secured_Secondary / seconda...</td>\n",
       "    </tr>\n",
       "    <tr>\n",
       "      <th>4</th>\n",
       "      <td>100007</td>\n",
       "      <td>0</td>\n",
       "      <td>0.540706</td>\n",
       "      <td>Cash loans</td>\n",
       "      <td>Working</td>\n",
       "      <td>1</td>\n",
       "      <td>Secondary / secondary special</td>\n",
       "      <td>Single / not married</td>\n",
       "      <td>Cash loans_Working_Secured_Secondary / seconda...</td>\n",
       "    </tr>\n",
       "  </tbody>\n",
       "</table>\n",
       "</div>"
      ],
      "text/plain": [
       "   SK_ID_CURR  TARGET        PD NAME_CONTRACT_TYPE NAME_INCOME_TYPE  \\\n",
       "0      100002       1  0.851064         Cash loans          Working   \n",
       "1      100003       0  0.157916         Cash loans    State servant   \n",
       "2      100004       0  0.223813    Revolving loans          Working   \n",
       "3      100006       0  0.418342         Cash loans          Working   \n",
       "4      100007       0  0.540706         Cash loans          Working   \n",
       "\n",
       "   FLAG_OWN_REALTY            NAME_EDUCATION_TYPE    NAME_FAMILY_STATUS  \\\n",
       "0                1  Secondary / secondary special  Single / not married   \n",
       "1                0               Higher education               Married   \n",
       "2                1  Secondary / secondary special  Single / not married   \n",
       "3                1  Secondary / secondary special        Civil marriage   \n",
       "4                1  Secondary / secondary special  Single / not married   \n",
       "\n",
       "                                           portfolio  \n",
       "0  Cash loans_Working_Secured_Secondary / seconda...  \n",
       "1  Cash loans_State servant_Unsecured_Higher educ...  \n",
       "2  Revolving loans_Working_Secured_Secondary / se...  \n",
       "3  Cash loans_Working_Secured_Secondary / seconda...  \n",
       "4  Cash loans_Working_Secured_Secondary / seconda...  "
      ]
     },
     "execution_count": 25,
     "metadata": {},
     "output_type": "execute_result"
    }
   ],
   "source": [
    "seg.head()"
   ]
  },
  {
   "cell_type": "code",
   "execution_count": 26,
   "id": "8d75806c",
   "metadata": {},
   "outputs": [
    {
     "ename": "ValueError",
     "evalue": "Bin edges must be unique: Index([0.06432572130765499, 0.06432572130765499, 0.06432572130765499,\n       0.06432572130765499, 0.06432572130765499, 0.06432572130765499],\n      dtype='float64', name='Cash loans_Commercial associate_Secured_Academic degree_Civil marriage').\nYou can drop duplicate edges by setting the 'duplicates' kwarg",
     "output_type": "error",
     "traceback": [
      "\u001b[31m---------------------------------------------------------------------------\u001b[39m",
      "\u001b[31mValueError\u001b[39m                                Traceback (most recent call last)",
      "\u001b[36mCell\u001b[39m\u001b[36m \u001b[39m\u001b[32mIn[26]\u001b[39m\u001b[32m, line 2\u001b[39m\n\u001b[32m      1\u001b[39m n = \u001b[32m5\u001b[39m \u001b[38;5;66;03m# # of buckets\u001b[39;00m\n\u001b[32m----> \u001b[39m\u001b[32m2\u001b[39m seg[\u001b[33m\"\u001b[39m\u001b[33mPDByBucket\u001b[39m\u001b[33m\"\u001b[39m] = \u001b[43mseg\u001b[49m\u001b[43m.\u001b[49m\u001b[43mgroupby\u001b[49m\u001b[43m(\u001b[49m\u001b[33;43m'\u001b[39;49m\u001b[33;43mportfolio\u001b[39;49m\u001b[33;43m'\u001b[39;49m\u001b[43m)\u001b[49m\u001b[43m[\u001b[49m\u001b[33;43m'\u001b[39;49m\u001b[33;43mPD\u001b[39;49m\u001b[33;43m'\u001b[39;49m\u001b[43m]\u001b[49m\u001b[43m.\u001b[49m\u001b[43mtransform\u001b[49m\u001b[43m(\u001b[49m\n\u001b[32m      3\u001b[39m \u001b[43m    \u001b[49m\u001b[38;5;66;43;03m# pd.qcut splits each portfolio’s PD distribution into equal-sized group\u001b[39;49;00m\n\u001b[32m      4\u001b[39m \u001b[43m    \u001b[49m\u001b[38;5;28;43;01mlambda\u001b[39;49;00m\u001b[43m \u001b[49m\u001b[43mx\u001b[49m\u001b[43m:\u001b[49m\u001b[43m \u001b[49m\u001b[43mpd\u001b[49m\u001b[43m.\u001b[49m\u001b[43mqcut\u001b[49m\u001b[43m(\u001b[49m\u001b[43mx\u001b[49m\u001b[43m,\u001b[49m\u001b[43m \u001b[49m\u001b[43mn\u001b[49m\u001b[43m,\u001b[49m\u001b[43m \u001b[49m\u001b[43mlabels\u001b[49m\u001b[43m=\u001b[49m\u001b[43m[\u001b[49m\u001b[33;43mf\u001b[39;49m\u001b[33;43m'\u001b[39;49m\u001b[33;43mB\u001b[39;49m\u001b[38;5;132;43;01m{\u001b[39;49;00m\u001b[43mi\u001b[49m\u001b[43m+\u001b[49m\u001b[32;43m1\u001b[39;49m\u001b[38;5;132;43;01m}\u001b[39;49;00m\u001b[33;43m'\u001b[39;49m\u001b[43m \u001b[49m\u001b[38;5;28;43;01mfor\u001b[39;49;00m\u001b[43m \u001b[49m\u001b[43mi\u001b[49m\u001b[43m \u001b[49m\u001b[38;5;129;43;01min\u001b[39;49;00m\u001b[43m \u001b[49m\u001b[38;5;28;43mrange\u001b[39;49m\u001b[43m(\u001b[49m\u001b[43mn\u001b[49m\u001b[43m)\u001b[49m\u001b[43m]\u001b[49m\u001b[43m)\u001b[49m\u001b[43m \u001b[49m\n\u001b[32m      5\u001b[39m \u001b[43m)\u001b[49m\n",
      "\u001b[36mFile \u001b[39m\u001b[32mc:\\Users\\jeant\\AppData\\Local\\Programs\\Python\\Python313\\Lib\\site-packages\\pandas\\core\\groupby\\generic.py:517\u001b[39m, in \u001b[36mSeriesGroupBy.transform\u001b[39m\u001b[34m(self, func, engine, engine_kwargs, *args, **kwargs)\u001b[39m\n\u001b[32m    514\u001b[39m \u001b[38;5;129m@Substitution\u001b[39m(klass=\u001b[33m\"\u001b[39m\u001b[33mSeries\u001b[39m\u001b[33m\"\u001b[39m, example=__examples_series_doc)\n\u001b[32m    515\u001b[39m \u001b[38;5;129m@Appender\u001b[39m(_transform_template)\n\u001b[32m    516\u001b[39m \u001b[38;5;28;01mdef\u001b[39;00m\u001b[38;5;250m \u001b[39m\u001b[34mtransform\u001b[39m(\u001b[38;5;28mself\u001b[39m, func, *args, engine=\u001b[38;5;28;01mNone\u001b[39;00m, engine_kwargs=\u001b[38;5;28;01mNone\u001b[39;00m, **kwargs):\n\u001b[32m--> \u001b[39m\u001b[32m517\u001b[39m     \u001b[38;5;28;01mreturn\u001b[39;00m \u001b[38;5;28;43mself\u001b[39;49m\u001b[43m.\u001b[49m\u001b[43m_transform\u001b[49m\u001b[43m(\u001b[49m\n\u001b[32m    518\u001b[39m \u001b[43m        \u001b[49m\u001b[43mfunc\u001b[49m\u001b[43m,\u001b[49m\u001b[43m \u001b[49m\u001b[43m*\u001b[49m\u001b[43margs\u001b[49m\u001b[43m,\u001b[49m\u001b[43m \u001b[49m\u001b[43mengine\u001b[49m\u001b[43m=\u001b[49m\u001b[43mengine\u001b[49m\u001b[43m,\u001b[49m\u001b[43m \u001b[49m\u001b[43mengine_kwargs\u001b[49m\u001b[43m=\u001b[49m\u001b[43mengine_kwargs\u001b[49m\u001b[43m,\u001b[49m\u001b[43m \u001b[49m\u001b[43m*\u001b[49m\u001b[43m*\u001b[49m\u001b[43mkwargs\u001b[49m\n\u001b[32m    519\u001b[39m \u001b[43m    \u001b[49m\u001b[43m)\u001b[49m\n",
      "\u001b[36mFile \u001b[39m\u001b[32mc:\\Users\\jeant\\AppData\\Local\\Programs\\Python\\Python313\\Lib\\site-packages\\pandas\\core\\groupby\\groupby.py:2021\u001b[39m, in \u001b[36mGroupBy._transform\u001b[39m\u001b[34m(self, func, engine, engine_kwargs, *args, **kwargs)\u001b[39m\n\u001b[32m   2018\u001b[39m     warn_alias_replacement(\u001b[38;5;28mself\u001b[39m, orig_func, func)\n\u001b[32m   2020\u001b[39m \u001b[38;5;28;01mif\u001b[39;00m \u001b[38;5;129;01mnot\u001b[39;00m \u001b[38;5;28misinstance\u001b[39m(func, \u001b[38;5;28mstr\u001b[39m):\n\u001b[32m-> \u001b[39m\u001b[32m2021\u001b[39m     \u001b[38;5;28;01mreturn\u001b[39;00m \u001b[38;5;28;43mself\u001b[39;49m\u001b[43m.\u001b[49m\u001b[43m_transform_general\u001b[49m\u001b[43m(\u001b[49m\u001b[43mfunc\u001b[49m\u001b[43m,\u001b[49m\u001b[43m \u001b[49m\u001b[43mengine\u001b[49m\u001b[43m,\u001b[49m\u001b[43m \u001b[49m\u001b[43mengine_kwargs\u001b[49m\u001b[43m,\u001b[49m\u001b[43m \u001b[49m\u001b[43m*\u001b[49m\u001b[43margs\u001b[49m\u001b[43m,\u001b[49m\u001b[43m \u001b[49m\u001b[43m*\u001b[49m\u001b[43m*\u001b[49m\u001b[43mkwargs\u001b[49m\u001b[43m)\u001b[49m\n\u001b[32m   2023\u001b[39m \u001b[38;5;28;01melif\u001b[39;00m func \u001b[38;5;129;01mnot\u001b[39;00m \u001b[38;5;129;01min\u001b[39;00m base.transform_kernel_allowlist:\n\u001b[32m   2024\u001b[39m     msg = \u001b[33mf\u001b[39m\u001b[33m\"\u001b[39m\u001b[33m'\u001b[39m\u001b[38;5;132;01m{\u001b[39;00mfunc\u001b[38;5;132;01m}\u001b[39;00m\u001b[33m'\u001b[39m\u001b[33m is not a valid function name for transform(name)\u001b[39m\u001b[33m\"\u001b[39m\n",
      "\u001b[36mFile \u001b[39m\u001b[32mc:\\Users\\jeant\\AppData\\Local\\Programs\\Python\\Python313\\Lib\\site-packages\\pandas\\core\\groupby\\generic.py:557\u001b[39m, in \u001b[36mSeriesGroupBy._transform_general\u001b[39m\u001b[34m(self, func, engine, engine_kwargs, *args, **kwargs)\u001b[39m\n\u001b[32m    552\u001b[39m \u001b[38;5;28;01mfor\u001b[39;00m name, group \u001b[38;5;129;01min\u001b[39;00m \u001b[38;5;28mself\u001b[39m._grouper.get_iterator(\n\u001b[32m    553\u001b[39m     \u001b[38;5;28mself\u001b[39m._obj_with_exclusions, axis=\u001b[38;5;28mself\u001b[39m.axis\n\u001b[32m    554\u001b[39m ):\n\u001b[32m    555\u001b[39m     \u001b[38;5;66;03m# this setattr is needed for test_transform_lambda_with_datetimetz\u001b[39;00m\n\u001b[32m    556\u001b[39m     \u001b[38;5;28mobject\u001b[39m.\u001b[34m__setattr__\u001b[39m(group, \u001b[33m\"\u001b[39m\u001b[33mname\u001b[39m\u001b[33m\"\u001b[39m, name)\n\u001b[32m--> \u001b[39m\u001b[32m557\u001b[39m     res = \u001b[43mfunc\u001b[49m\u001b[43m(\u001b[49m\u001b[43mgroup\u001b[49m\u001b[43m,\u001b[49m\u001b[43m \u001b[49m\u001b[43m*\u001b[49m\u001b[43margs\u001b[49m\u001b[43m,\u001b[49m\u001b[43m \u001b[49m\u001b[43m*\u001b[49m\u001b[43m*\u001b[49m\u001b[43mkwargs\u001b[49m\u001b[43m)\u001b[49m\n\u001b[32m    559\u001b[39m     results.append(klass(res, index=group.index))\n\u001b[32m    561\u001b[39m \u001b[38;5;66;03m# check for empty \"results\" to avoid concat ValueError\u001b[39;00m\n",
      "\u001b[36mCell\u001b[39m\u001b[36m \u001b[39m\u001b[32mIn[26]\u001b[39m\u001b[32m, line 4\u001b[39m, in \u001b[36m<lambda>\u001b[39m\u001b[34m(x)\u001b[39m\n\u001b[32m      1\u001b[39m n = \u001b[32m5\u001b[39m \u001b[38;5;66;03m# # of buckets\u001b[39;00m\n\u001b[32m      2\u001b[39m seg[\u001b[33m\"\u001b[39m\u001b[33mPDByBucket\u001b[39m\u001b[33m\"\u001b[39m] = seg.groupby(\u001b[33m'\u001b[39m\u001b[33mportfolio\u001b[39m\u001b[33m'\u001b[39m)[\u001b[33m'\u001b[39m\u001b[33mPD\u001b[39m\u001b[33m'\u001b[39m].transform(\n\u001b[32m      3\u001b[39m     \u001b[38;5;66;03m# pd.qcut splits each portfolio’s PD distribution into equal-sized group\u001b[39;00m\n\u001b[32m----> \u001b[39m\u001b[32m4\u001b[39m     \u001b[38;5;28;01mlambda\u001b[39;00m x: \u001b[43mpd\u001b[49m\u001b[43m.\u001b[49m\u001b[43mqcut\u001b[49m\u001b[43m(\u001b[49m\u001b[43mx\u001b[49m\u001b[43m,\u001b[49m\u001b[43m \u001b[49m\u001b[43mn\u001b[49m\u001b[43m,\u001b[49m\u001b[43m \u001b[49m\u001b[43mlabels\u001b[49m\u001b[43m=\u001b[49m\u001b[43m[\u001b[49m\u001b[33;43mf\u001b[39;49m\u001b[33;43m'\u001b[39;49m\u001b[33;43mB\u001b[39;49m\u001b[38;5;132;43;01m{\u001b[39;49;00m\u001b[43mi\u001b[49m\u001b[43m+\u001b[49m\u001b[32;43m1\u001b[39;49m\u001b[38;5;132;43;01m}\u001b[39;49;00m\u001b[33;43m'\u001b[39;49m\u001b[43m \u001b[49m\u001b[38;5;28;43;01mfor\u001b[39;49;00m\u001b[43m \u001b[49m\u001b[43mi\u001b[49m\u001b[43m \u001b[49m\u001b[38;5;129;43;01min\u001b[39;49;00m\u001b[43m \u001b[49m\u001b[38;5;28;43mrange\u001b[39;49m\u001b[43m(\u001b[49m\u001b[43mn\u001b[49m\u001b[43m)\u001b[49m\u001b[43m]\u001b[49m\u001b[43m)\u001b[49m \n\u001b[32m      5\u001b[39m )\n",
      "\u001b[36mFile \u001b[39m\u001b[32mc:\\Users\\jeant\\AppData\\Local\\Programs\\Python\\Python313\\Lib\\site-packages\\pandas\\core\\reshape\\tile.py:340\u001b[39m, in \u001b[36mqcut\u001b[39m\u001b[34m(x, q, labels, retbins, precision, duplicates)\u001b[39m\n\u001b[32m    336\u001b[39m quantiles = np.linspace(\u001b[32m0\u001b[39m, \u001b[32m1\u001b[39m, q + \u001b[32m1\u001b[39m) \u001b[38;5;28;01mif\u001b[39;00m is_integer(q) \u001b[38;5;28;01melse\u001b[39;00m q\n\u001b[32m    338\u001b[39m bins = x_idx.to_series().dropna().quantile(quantiles)\n\u001b[32m--> \u001b[39m\u001b[32m340\u001b[39m fac, bins = \u001b[43m_bins_to_cuts\u001b[49m\u001b[43m(\u001b[49m\n\u001b[32m    341\u001b[39m \u001b[43m    \u001b[49m\u001b[43mx_idx\u001b[49m\u001b[43m,\u001b[49m\n\u001b[32m    342\u001b[39m \u001b[43m    \u001b[49m\u001b[43mIndex\u001b[49m\u001b[43m(\u001b[49m\u001b[43mbins\u001b[49m\u001b[43m)\u001b[49m\u001b[43m,\u001b[49m\n\u001b[32m    343\u001b[39m \u001b[43m    \u001b[49m\u001b[43mlabels\u001b[49m\u001b[43m=\u001b[49m\u001b[43mlabels\u001b[49m\u001b[43m,\u001b[49m\n\u001b[32m    344\u001b[39m \u001b[43m    \u001b[49m\u001b[43mprecision\u001b[49m\u001b[43m=\u001b[49m\u001b[43mprecision\u001b[49m\u001b[43m,\u001b[49m\n\u001b[32m    345\u001b[39m \u001b[43m    \u001b[49m\u001b[43minclude_lowest\u001b[49m\u001b[43m=\u001b[49m\u001b[38;5;28;43;01mTrue\u001b[39;49;00m\u001b[43m,\u001b[49m\n\u001b[32m    346\u001b[39m \u001b[43m    \u001b[49m\u001b[43mduplicates\u001b[49m\u001b[43m=\u001b[49m\u001b[43mduplicates\u001b[49m\u001b[43m,\u001b[49m\n\u001b[32m    347\u001b[39m \u001b[43m\u001b[49m\u001b[43m)\u001b[49m\n\u001b[32m    349\u001b[39m \u001b[38;5;28;01mreturn\u001b[39;00m _postprocess_for_cut(fac, bins, retbins, original)\n",
      "\u001b[36mFile \u001b[39m\u001b[32mc:\\Users\\jeant\\AppData\\Local\\Programs\\Python\\Python313\\Lib\\site-packages\\pandas\\core\\reshape\\tile.py:443\u001b[39m, in \u001b[36m_bins_to_cuts\u001b[39m\u001b[34m(x_idx, bins, right, labels, precision, include_lowest, duplicates, ordered)\u001b[39m\n\u001b[32m    441\u001b[39m \u001b[38;5;28;01mif\u001b[39;00m \u001b[38;5;28mlen\u001b[39m(unique_bins) < \u001b[38;5;28mlen\u001b[39m(bins) \u001b[38;5;129;01mand\u001b[39;00m \u001b[38;5;28mlen\u001b[39m(bins) != \u001b[32m2\u001b[39m:\n\u001b[32m    442\u001b[39m     \u001b[38;5;28;01mif\u001b[39;00m duplicates == \u001b[33m\"\u001b[39m\u001b[33mraise\u001b[39m\u001b[33m\"\u001b[39m:\n\u001b[32m--> \u001b[39m\u001b[32m443\u001b[39m         \u001b[38;5;28;01mraise\u001b[39;00m \u001b[38;5;167;01mValueError\u001b[39;00m(\n\u001b[32m    444\u001b[39m             \u001b[33mf\u001b[39m\u001b[33m\"\u001b[39m\u001b[33mBin edges must be unique: \u001b[39m\u001b[38;5;132;01m{\u001b[39;00m\u001b[38;5;28mrepr\u001b[39m(bins)\u001b[38;5;132;01m}\u001b[39;00m\u001b[33m.\u001b[39m\u001b[38;5;130;01m\\n\u001b[39;00m\u001b[33m\"\u001b[39m\n\u001b[32m    445\u001b[39m             \u001b[33mf\u001b[39m\u001b[33m\"\u001b[39m\u001b[33mYou can drop duplicate edges by setting the \u001b[39m\u001b[33m'\u001b[39m\u001b[33mduplicates\u001b[39m\u001b[33m'\u001b[39m\u001b[33m kwarg\u001b[39m\u001b[33m\"\u001b[39m\n\u001b[32m    446\u001b[39m         )\n\u001b[32m    447\u001b[39m     bins = unique_bins\n\u001b[32m    449\u001b[39m side: Literal[\u001b[33m\"\u001b[39m\u001b[33mleft\u001b[39m\u001b[33m\"\u001b[39m, \u001b[33m\"\u001b[39m\u001b[33mright\u001b[39m\u001b[33m\"\u001b[39m] = \u001b[33m\"\u001b[39m\u001b[33mleft\u001b[39m\u001b[33m\"\u001b[39m \u001b[38;5;28;01mif\u001b[39;00m right \u001b[38;5;28;01melse\u001b[39;00m \u001b[33m\"\u001b[39m\u001b[33mright\u001b[39m\u001b[33m\"\u001b[39m\n",
      "\u001b[31mValueError\u001b[39m: Bin edges must be unique: Index([0.06432572130765499, 0.06432572130765499, 0.06432572130765499,\n       0.06432572130765499, 0.06432572130765499, 0.06432572130765499],\n      dtype='float64', name='Cash loans_Commercial associate_Secured_Academic degree_Civil marriage').\nYou can drop duplicate edges by setting the 'duplicates' kwarg"
     ]
    }
   ],
   "source": [
    "n = 5 # # of buckets\n",
    "seg[\"PDByBucket\"] = seg.groupby('portfolio')['PD'].transform(\n",
    "    # pd.qcut splits each portfolio’s PD distribution into equal-sized group\n",
    "    lambda x: pd.qcut(x, n, labels=[f'B{i+1}' for i in range(n)]) \n",
    ")"
   ]
  },
  {
   "cell_type": "markdown",
   "id": "43e7535b",
   "metadata": {},
   "source": [
    "<span style=\"font-size:30px; font-family:'Times new roman'; font-weight:bold\">\n",
    "Calibration🪵\n",
    "</span>"
   ]
  },
  {
   "cell_type": "markdown",
   "id": "f3ffe2f0",
   "metadata": {},
   "source": [
    "<span style=\"font-size:15px; font-family:'Times new roman'\">\n",
    "Why calibration❓<br>\n",
    "    - PD accuracy --> meaningful of calculated PDs<br>\n",
    "    - Regulatory and Risk management --> IFRS9 or Basel need well-calibrated PDs to compute ECL<br>\n",
    "    - Score Interpretability\n",
    "<span>"
   ]
  },
  {
   "cell_type": "code",
   "execution_count": null,
   "id": "b285ec16",
   "metadata": {},
   "outputs": [],
   "source": []
  }
 ],
 "metadata": {
  "kernelspec": {
   "display_name": "Python 3",
   "language": "python",
   "name": "python3"
  },
  "language_info": {
   "codemirror_mode": {
    "name": "ipython",
    "version": 3
   },
   "file_extension": ".py",
   "mimetype": "text/x-python",
   "name": "python",
   "nbconvert_exporter": "python",
   "pygments_lexer": "ipython3",
   "version": "3.13.2"
  }
 },
 "nbformat": 4,
 "nbformat_minor": 5
}
